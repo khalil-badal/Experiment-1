{
 "cells": [
  {
   "cell_type": "markdown",
   "id": "d3d34a57-da3a-4ffc-822f-a8e4bfc3e14f",
   "metadata": {},
   "source": [
    "# 1.)"
   ]
  },
  {
   "cell_type": "code",
   "execution_count": null,
   "id": "86b99cca-ed3f-4c36-a46e-af6f3aaa47c2",
   "metadata": {},
   "outputs": [],
   "source": [
    "# ALPHABET SOUP PROBLEM: Create a function that takes a string and returns a string with its letters in alphabetical order.\n",
    "\n",
    "# Start    \n",
    "    \n",
    "# Define a function to sort a string with numbers first, followed by letters\n",
    "def sort_string_numbers_first(input_string):\n",
    "    \n",
    "    # Extract and sort all digits from the input string\n",
    "    numbers = ''.join(sorted([char for char in input_string if char.isdigit()]))\n",
    "    \n",
    "    # Extract and sort all letters from the input string, case-insensitively\n",
    "    letters = ''.join(sorted([char for char in input_string if char.isalpha()], key=str.lower))\n",
    "    \n",
    "    # Concatenate the sorted numbers and letters\n",
    "    sorted_string = numbers + letters\n",
    "    \n",
    "    # Return the concatenated sorted string\n",
    "    return sorted_string\n",
    "\n",
    "# Define the main function to handle user input and output\n",
    "def main():\n",
    "    # Prompt the user to enter a string\n",
    "    user_input = input(\"Enter a string: \")\n",
    "    \n",
    "    # Sort the input string with numbers first, followed by letters\n",
    "    sorted_result = sort_string_numbers_first(user_input)\n",
    "    \n",
    "    # If the result is not empty and starts with a letter, capitalize the first letter\n",
    "    if sorted_result and sorted_result[0].isalpha():\n",
    "        sorted_result = sorted_result.capitalize()\n",
    "        \n",
    "    # Print the final arranged string\n",
    "    print(\"Arranged string:\", sorted_result)\n",
    "\n",
    "# Check if the script is being run directly\n",
    "if __name__ == \"__main__\":\n",
    "    \n",
    "    # Call the main function to execute the program\n",
    "    main()\n",
    "\n",
    "# End"
   ]
  },
  {
   "cell_type": "markdown",
   "id": "8e1aa0d3-a6d2-4c63-8027-f646410aaeed",
   "metadata": {},
   "source": [
    "# 2.)\n"
   ]
  },
  {
   "cell_type": "code",
   "execution_count": 6,
   "id": "fa69fd16-ef68-4f55-b03c-f2f588874376",
   "metadata": {},
   "outputs": [
    {
     "name": "stdin",
     "output_type": "stream",
     "text": [
      "Please enter a sentence:  Uwuuuu smile\n"
     ]
    },
    {
     "name": "stdout",
     "output_type": "stream",
     "text": [
      "Sentence with emoticons: Uwuuuu :)\n"
     ]
    }
   ],
   "source": [
    "# EMOTICON PROBLEM: Create a function that changes specific words into emoticons. Given a sentence as a string, replace the words smile, grin, sad and mad with their corresponding emoticon:\n",
    " \n",
    "\n",
    "#Start\n",
    "\n",
    "def replace_words_with_emoticons(sentence):\n",
    "    \n",
    "    # Define a dictionary that maps words to emoticons\n",
    "    emoticons = {\n",
    "        'smile': ':)',\n",
    "        'grin': ':D',\n",
    "        'sad': ':(',\n",
    "        'mad': '>_<'\n",
    "    }\n",
    "    \n",
    "    # Split the sentence into a list of words\n",
    "    words = sentence.split()\n",
    "    \n",
    "    # Create a new list to store the replaced words\n",
    "    new_words = []\n",
    "    \n",
    "    # Loop through each word in the list\n",
    "    for word in words:\n",
    "        # If the word is in the dictionary, replace it with the emoticon\n",
    "        if word in emoticons:\n",
    "            new_words.append(emoticons[word])\n",
    "        else:\n",
    "            # If the word is not in the dictionary, keep it as is\n",
    "            new_words.append(word)\n",
    "    \n",
    "    # Join the list of words back into a single string\n",
    "    new_sentence = ' '.join(new_words)\n",
    "    \n",
    "    return new_sentence\n",
    "\n",
    "def main():\n",
    "   \n",
    "    # Ask the user to enter a sentence\n",
    "    user_sentence = input(\"Please enter a sentence: \")\n",
    "    \n",
    "    # Call the function to replace words with emoticons\n",
    "    result_sentence = replace_words_with_emoticons(user_sentence)\n",
    "    \n",
    "    # Display the result\n",
    "    print(\"Sentence with emoticons:\", result_sentence)\n",
    "\n",
    "# Call the main function\n",
    "main()\n",
    "\n",
    "# End"
   ]
  },
  {
   "cell_type": "markdown",
   "id": "fb72cb26-00f4-4084-8671-f625c61f5c11",
   "metadata": {},
   "source": [
    "# 3.)"
   ]
  },
  {
   "cell_type": "code",
   "execution_count": 1,
   "id": "ce19ddf0-30ac-4540-b7b1-0746b2f1840e",
   "metadata": {},
   "outputs": [
    {
     "name": "stdin",
     "output_type": "stream",
     "text": [
      "Enter a list of numbers separated by commas:  6,7,8,66,4\n"
     ]
    },
    {
     "name": "stdout",
     "output_type": "stream",
     "text": [
      "First element: 6\n",
      "Middle elements: [7, 8, 66]\n",
      "Last element: 4\n"
     ]
    }
   ],
   "source": [
    "# UNPACKING LIST PROBLEM: Unpack the list writeyourcodehere into three variables, being first, middle, and last, with middle being everything in between the first and last element. Then print all three variables.\n",
    "\n",
    "#Start\n",
    "\n",
    "# Define a function named 'unpack_list' that takes one argument 'lst'\n",
    "def unpack_list(lst):\n",
    "\n",
    "    # Check if the length of the list is less than 3\n",
    "    if len(lst) < 3:\n",
    "        # If true, raise a ValueError with a message\n",
    "        raise ValueError(\"List must contain at least three elements\")\n",
    "\n",
    "    # Assign the first element of the list to the variable 'first'\n",
    "    first = lst[0]\n",
    "\n",
    "    # Assign the last element of the list to the variable 'last'\n",
    "    last = lst[-1]\n",
    "\n",
    "    # Assign all elements between the first and last to the variable 'middle'\n",
    "    middle = lst[1:-1]\n",
    "\n",
    "    # Return the first, middle, and last elements as a tuple\n",
    "    return first, middle, last\n",
    "\n",
    "# Define the main function\n",
    "def main():\n",
    "    # Prompt the user to enter a list of numbers separated by commas and store it in 'user_input'\n",
    "    user_input = input(\"Enter a list of numbers separated by commas: \")\n",
    "\n",
    "    # Split the input string into individual numbers, convert them to integers, and store them in a list 'lst'\n",
    "    lst = [int(num) for num in user_input.split(\",\")]\n",
    "\n",
    "    # Check if the list has fewer than 3 elements\n",
    "    if len(lst) < 3:\n",
    "        # If true, print a message and exit the function\n",
    "        print(\"Please enter a list with at least three elements.\")\n",
    "        return\n",
    "\n",
    "    # Call the 'unpack_list' function with the list and unpack the returned tuple into 'first', 'middle', and 'last'\n",
    "    first, middle, last = unpack_list(lst)\n",
    "\n",
    "    # Print the first element\n",
    "    print(f\"First element: {first}\")\n",
    "\n",
    "    # Print the middle elements\n",
    "    print(f\"Middle elements: {middle}\")\n",
    "\n",
    "    # Print the last element\n",
    "    print(f\"Last element: {last}\")\n",
    "\n",
    "# Check if the script is being run directly\n",
    "if __name__ == \"__main__\":\n",
    "    # Call the 'main' function\n",
    "    main()\n",
    "\n",
    "# End "
   ]
  },
  {
   "cell_type": "code",
   "execution_count": 25,
   "id": "37ebd3eb-159b-4ff3-83d3-5d870cd8a6a4",
   "metadata": {},
   "outputs": [],
   "source": [
    "\n"
   ]
  },
  {
   "cell_type": "code",
   "execution_count": null,
   "id": "bf1ec09d-c6e1-492c-b12e-cab749f96bc7",
   "metadata": {},
   "outputs": [],
   "source": []
  }
 ],
 "metadata": {
  "kernelspec": {
   "display_name": "Python 3 (ipykernel)",
   "language": "python",
   "name": "python3"
  },
  "language_info": {
   "codemirror_mode": {
    "name": "ipython",
    "version": 3
   },
   "file_extension": ".py",
   "mimetype": "text/x-python",
   "name": "python",
   "nbconvert_exporter": "python",
   "pygments_lexer": "ipython3",
   "version": "3.12.4"
  }
 },
 "nbformat": 4,
 "nbformat_minor": 5
}
